{
 "cells": [
  {
   "cell_type": "code",
   "execution_count": null,
   "id": "19033cad",
   "metadata": {},
   "outputs": [],
   "source": [
    "!pip install pydirectinput"
   ]
  },
  {
   "cell_type": "code",
   "execution_count": 1,
   "id": "cc21dbb1",
   "metadata": {},
   "outputs": [
    {
     "ename": "ModuleNotFoundError",
     "evalue": "No module named 'pydirectinput'",
     "output_type": "error",
     "traceback": [
      "\u001b[1;31m---------------------------------------------------------------------------\u001b[0m",
      "\u001b[1;31mModuleNotFoundError\u001b[0m                       Traceback (most recent call last)",
      "\u001b[1;32m~\\AppData\\Local\\Temp/ipykernel_2732/4185834867.py\u001b[0m in \u001b[0;36m<module>\u001b[1;34m\u001b[0m\n\u001b[0;32m      1\u001b[0m \u001b[1;32mimport\u001b[0m \u001b[0mmediapipe\u001b[0m \u001b[1;32mas\u001b[0m \u001b[0mmp\u001b[0m \u001b[1;31m# Import mediapipe\u001b[0m\u001b[1;33m\u001b[0m\u001b[1;33m\u001b[0m\u001b[0m\n\u001b[0;32m      2\u001b[0m \u001b[1;32mimport\u001b[0m \u001b[0mcv2\u001b[0m \u001b[1;31m# Import opencv\u001b[0m\u001b[1;33m\u001b[0m\u001b[1;33m\u001b[0m\u001b[0m\n\u001b[1;32m----> 3\u001b[1;33m \u001b[1;32mimport\u001b[0m \u001b[0mpydirectinput\u001b[0m\u001b[1;33m\u001b[0m\u001b[1;33m\u001b[0m\u001b[0m\n\u001b[0m",
      "\u001b[1;31mModuleNotFoundError\u001b[0m: No module named 'pydirectinput'"
     ]
    }
   ],
   "source": [
    "import mediapipe as mp # Import mediapipe\n",
    "import cv2 # Import opencv\n",
    "import pydirectinput"
   ]
  },
  {
   "cell_type": "code",
   "execution_count": null,
   "id": "61438c55",
   "metadata": {},
   "outputs": [],
   "source": [
    "mp_drawing = mp.solutions.drawing_utils # Drawing helpers\n",
    "mp_holistic = mp.solutions.holistic # Mediapipe Solutions\n",
    "mp_pose = mp.solutions.pose"
   ]
  },
  {
   "cell_type": "code",
   "execution_count": 2,
   "id": "26f5790b",
   "metadata": {},
   "outputs": [
    {
     "ename": "NameError",
     "evalue": "name 'mp_holistic' is not defined",
     "output_type": "error",
     "traceback": [
      "\u001b[1;31m---------------------------------------------------------------------------\u001b[0m",
      "\u001b[1;31mNameError\u001b[0m                                 Traceback (most recent call last)",
      "\u001b[1;32m~\\AppData\\Local\\Temp/ipykernel_2732/2948523734.py\u001b[0m in \u001b[0;36m<module>\u001b[1;34m\u001b[0m\n\u001b[0;32m      5\u001b[0m \u001b[0mstatus\u001b[0m \u001b[1;33m=\u001b[0m \u001b[1;36m0\u001b[0m\u001b[1;33m\u001b[0m\u001b[1;33m\u001b[0m\u001b[0m\n\u001b[0;32m      6\u001b[0m \u001b[1;33m\u001b[0m\u001b[0m\n\u001b[1;32m----> 7\u001b[1;33m \u001b[1;32mwith\u001b[0m \u001b[0mmp_holistic\u001b[0m\u001b[1;33m.\u001b[0m\u001b[0mHolistic\u001b[0m\u001b[1;33m(\u001b[0m\u001b[0mmin_detection_confidence\u001b[0m\u001b[1;33m=\u001b[0m\u001b[1;36m0.5\u001b[0m\u001b[1;33m,\u001b[0m \u001b[0mmin_tracking_confidence\u001b[0m\u001b[1;33m=\u001b[0m\u001b[1;36m0.5\u001b[0m\u001b[1;33m)\u001b[0m \u001b[1;32mas\u001b[0m \u001b[0mholistic\u001b[0m\u001b[1;33m:\u001b[0m\u001b[1;33m\u001b[0m\u001b[1;33m\u001b[0m\u001b[0m\n\u001b[0m\u001b[0;32m      8\u001b[0m \u001b[1;33m\u001b[0m\u001b[0m\n\u001b[0;32m      9\u001b[0m     \u001b[1;32mwhile\u001b[0m \u001b[1;32mTrue\u001b[0m\u001b[1;33m:\u001b[0m\u001b[1;33m\u001b[0m\u001b[1;33m\u001b[0m\u001b[0m\n",
      "\u001b[1;31mNameError\u001b[0m: name 'mp_holistic' is not defined"
     ]
    }
   ],
   "source": [
    "cap = cv2.VideoCapture(1)\n",
    "cap.set(3, 720)\n",
    "cap.set(4, 540)\n",
    "pose = \"\"\n",
    "status = 0\n",
    "\n",
    "with mp_holistic.Holistic(min_detection_confidence=0.5, min_tracking_confidence=0.5) as holistic:\n",
    "    \n",
    "    while True:\n",
    "        ret, frame = cap.read()\n",
    "        frame = cv2.flip(frame, 1)\n",
    "        # Recolor Feed\n",
    "        image = cv2.cvtColor(frame, cv2.COLOR_BGR2RGB)     \n",
    "        \n",
    "        # Make Detections\n",
    "        results = holistic.process(image)   \n",
    "        image = cv2.cvtColor(image, cv2.COLOR_RGB2BGR)\n",
    "        \n",
    "        height, width, _ = image.shape\n",
    "        \n",
    "        try: \n",
    "            right_hand = (results.pose_landmarks.landmark[mp_pose.PoseLandmark.LEFT_WRIST].x * width,\n",
    "                              results.pose_landmarks.landmark[mp_pose.PoseLandmark.LEFT_WRIST].y * height)\n",
    "\n",
    "        \n",
    "            line_x1 = width//3\n",
    "            line_x2 = 2 * (width//3)\n",
    "            line_y1=height//3\n",
    "            line_y2 = 2*(height//3)\n",
    "\n",
    "            \n",
    "            if (right_hand[0]>line_x2) and (right_hand[1]<line_y1) and  (right_hand[1]>0):\n",
    "                pose = \"Start\"\n",
    "                pydirectinput.keyDown('space')\n",
    "                pydirectinput.keyUp('space')\n",
    "                status = 1\n",
    "            \n",
    "            elif (right_hand[0]>line_x2) and (right_hand[1]>line_y1) and  (right_hand[1]<line_y2) and status == 1:\n",
    "                pose = \"Right\"\n",
    "                pydirectinput.keyDown('right')\n",
    "                pydirectinput.keyUp('right')\n",
    "            elif  (right_hand[0]<line_x1) and (right_hand[1]>line_y1) and  (right_hand[1]<line_y2) and status == 1:\n",
    "                pose = \"Left\"\n",
    "                pydirectinput.keyDown('left')\n",
    "                pydirectinput.keyUp('left')\n",
    "            elif (right_hand[1]<line_y1) and status == 1:\n",
    "                pose=\"Jump\"\n",
    "                pydirectinput.keyDown('up')\n",
    "                pydirectinput.keyUp('up')\n",
    "            elif (right_hand[1]>line_y2) and status == 1:\n",
    "                pose=\"Slide\"\n",
    "                pydirectinput.keyDown('down')\n",
    "                pydirectinput.keyUp('down')\n",
    "            elif status == 0:\n",
    "                pose = \"Please start the Game\"\n",
    "            else:\n",
    "                pose=\"Run\"\n",
    "                \n",
    "        except:\n",
    "            pass\n",
    "\n",
    "        cv2.putText(image, pose, (10, 30), cv2.FONT_HERSHEY_PLAIN, 2, (255,255,0), 3)\n",
    "        cv2.line(image, (width//3, 0), (width//3, height), (255, 255, 255), 2)\n",
    "        cv2.line(image, (2*(width//3), 0), (2*(width//3), height), (255, 255, 255), 2)\n",
    "\n",
    "        cv2.line(image, (0, height//3), (width, height//3), (255, 255, 255), 2)\n",
    "        cv2.line(image, (0, 2*(height//3)), (width,2*(height//3)), (255, 255, 255), 2)\n",
    "\n",
    "\n",
    "        \n",
    "        \n",
    "        # 4. Pose Detections\n",
    "        mp_drawing.draw_landmarks(image, results.pose_landmarks, mp_holistic.POSE_CONNECTIONS, \n",
    "                                 mp_drawing.DrawingSpec(color=(180, 105, 255), thickness=5, circle_radius=8),\n",
    "                                 mp_drawing.DrawingSpec(color=(255,255,255), thickness=10, circle_radius=10)\n",
    "                                 )\n",
    "                        \n",
    "        cv2.imshow('Raw Webcam Feed', image)\n",
    "\n",
    "        if cv2.waitKey(10) & 0xFF == ord('q'):\n",
    "            break\n",
    "\n",
    "cap.release()\n",
    "cv2.destroyAllWindows()"
   ]
  },
  {
   "cell_type": "code",
   "execution_count": null,
   "id": "efa0d208",
   "metadata": {},
   "outputs": [],
   "source": []
  }
 ],
 "metadata": {
  "kernelspec": {
   "display_name": "Python 3 (ipykernel)",
   "language": "python",
   "name": "python3"
  },
  "language_info": {
   "codemirror_mode": {
    "name": "ipython",
    "version": 3
   },
   "file_extension": ".py",
   "mimetype": "text/x-python",
   "name": "python",
   "nbconvert_exporter": "python",
   "pygments_lexer": "ipython3",
   "version": "3.9.7"
  }
 },
 "nbformat": 4,
 "nbformat_minor": 5
}
